{
 "cells": [
  {
   "cell_type": "code",
   "execution_count": 9,
   "id": "65cfb961-241e-4edf-a532-2b98391d0716",
   "metadata": {},
   "outputs": [
    {
     "name": "stderr",
     "output_type": "stream",
     "text": [
      "/var/folders/1d/7ynr__411fx9qj9r1bgh72cc0000gn/T/ipykernel_7206/48023150.py:5: DtypeWarning: Columns (3) have mixed types. Specify dtype option on import or set low_memory=False.\n",
      "  books_df = pd.read_csv(books_data_path)\n",
      "/var/folders/1d/7ynr__411fx9qj9r1bgh72cc0000gn/T/ipykernel_7206/1378467526.py:6: UserWarning: Boolean Series key will be reindexed to match DataFrame index.\n",
      "  print(books_df[invalid_publication_years])\n"
     ]
    },
    {
     "name": "stdout",
     "output_type": "stream",
     "text": [
      "Empty DataFrame\n",
      "Columns: [ISBN, Book-Title, Book-Author, Year-Of-Publication, Publisher, Image-URL-S, Image-URL-M, Image-URL-L]\n",
      "Index: []\n",
      "ISBN                   object\n",
      "Book-Title             object\n",
      "Book-Author            object\n",
      "Year-Of-Publication     int64\n",
      "Publisher              object\n",
      "Image-URL-S            object\n",
      "Image-URL-M            object\n",
      "Image-URL-L            object\n",
      "dtype: object\n",
      "Total ISBNs: 270144\n",
      "Total Titles: 270144\n",
      "Total Authors: 270144\n",
      "Total Publication Years: 270144\n",
      "Total Publishers: 270144\n",
      "Number of Users: 2180\n",
      "Number of Book Titles: 17178\n",
      "Number of Users: 2180, Number of Books: 17178, Min Rating: 0.0, Max Rating: 10.0\n",
      "[[ 1005  9861]\n",
      " [  273  1978]\n",
      " [  678  8223]\n",
      " ...\n",
      " [  678  5066]\n",
      " [  139   850]\n",
      " [ 1706 13939]] [1.  0.8 0.3 ... 0.  0.5 0. ]\n"
     ]
    },
    {
     "name": "stderr",
     "output_type": "stream",
     "text": [
      "/var/folders/1d/7ynr__411fx9qj9r1bgh72cc0000gn/T/ipykernel_7206/412158009.py:11: SettingWithCopyWarning: \n",
      "A value is trying to be set on a copy of a slice from a DataFrame.\n",
      "Try using .loc[row_indexer,col_indexer] = value instead\n",
      "\n",
      "See the caveats in the documentation: https://pandas.pydata.org/pandas-docs/stable/user_guide/indexing.html#returning-a-view-versus-a-copy\n",
      "  final_ratings_df['user'] = final_ratings_df['User-ID'].map(encoded_user)\n",
      "/var/folders/1d/7ynr__411fx9qj9r1bgh72cc0000gn/T/ipykernel_7206/412158009.py:14: SettingWithCopyWarning: \n",
      "A value is trying to be set on a copy of a slice from a DataFrame.\n",
      "Try using .loc[row_indexer,col_indexer] = value instead\n",
      "\n",
      "See the caveats in the documentation: https://pandas.pydata.org/pandas-docs/stable/user_guide/indexing.html#returning-a-view-versus-a-copy\n",
      "  final_ratings_df['book_title'] = final_ratings_df['ISBN'].map(isbn_to_isbn_encoded)\n",
      "/var/folders/1d/7ynr__411fx9qj9r1bgh72cc0000gn/T/ipykernel_7206/698996732.py:10: SettingWithCopyWarning: \n",
      "A value is trying to be set on a copy of a slice from a DataFrame.\n",
      "Try using .loc[row_indexer,col_indexer] = value instead\n",
      "\n",
      "See the caveats in the documentation: https://pandas.pydata.org/pandas-docs/stable/user_guide/indexing.html#returning-a-view-versus-a-copy\n",
      "  final_ratings_df['Book-Rating'] = final_ratings_df['Book-Rating'].values.astype(np.float32)\n"
     ]
    },
    {
     "name": "stdout",
     "output_type": "stream",
     "text": [
      "33/33 [==============================] - 0s 1ms/step\n"
     ]
    },
    {
     "name": "stderr",
     "output_type": "stream",
     "text": [
      "/var/folders/1d/7ynr__411fx9qj9r1bgh72cc0000gn/T/ipykernel_7206/2164266257.py:1: DtypeWarning: Columns (3) have mixed types. Specify dtype option on import or set low_memory=False.\n",
      "  books1_df = pd.read_csv(books_data_path)\n",
      "/var/folders/1d/7ynr__411fx9qj9r1bgh72cc0000gn/T/ipykernel_7206/1514965619.py:20: DtypeWarning: Columns (3) have mixed types. Specify dtype option on import or set low_memory=False.\n",
      "  books_df = pd.read_csv(books_data_path)\n",
      "2023-12-15 04:08:19.998 \n",
      "  \u001b[33m\u001b[1mWarning:\u001b[0m to view this Streamlit app on a browser, run it with the following\n",
      "  command:\n",
      "\n",
      "    streamlit run /Users/aditi/miniconda3/lib/python3.11/site-packages/ipykernel_launcher.py [ARGUMENTS]\n"
     ]
    }
   ],
   "source": [
    "# Importing RecommendationModel from User-Based.ipynb\n",
    "%run User-Based.ipynb\n",
    "\n",
    "import pandas as pd\n",
    "import numpy as np\n",
    "import streamlit as st\n",
    "from tensorflow.keras.models import load_model\n",
    "\n",
    "# Assuming RecommendationModel is defined in the same way as in User-Based.ipynb\n",
    "model = RecommendationModel(num_users, num_book_titles, embedding_size=50)\n",
    "\n",
    "# Placeholder paths, replace these with the actual paths to your data\n",
    "users_data_path = 'data/Users.csv'\n",
    "books_data_path = 'data/Books.csv'\n",
    "\n",
    "# Load user data\n",
    "users_df = pd.read_csv(users_data_path)\n",
    "\n",
    "# Load book data\n",
    "books_df = pd.read_csv(books_data_path)\n",
    "\n",
    "# User encoding\n",
    "unique_user_ids = users_df['User-ID'].unique()\n",
    "user_to_user_encoded = {user_id: index for index, user_id in enumerate(unique_user_ids)}\n",
    "\n",
    "# Reverse user encoding\n",
    "user_encoded_to_user = {index: user_id for index, user_id in enumerate(unique_user_ids)}\n",
    "\n",
    "# ISBN encoding\n",
    "unique_isbns = books_df['ISBN'].unique()\n",
    "isbn_to_isbn_encoded = {isbn: index for index, isbn in enumerate(unique_isbns)}\n",
    "\n",
    "# Reverse ISBN encoding\n",
    "isbn_encoded_to_isbn = {index: isbn for index, isbn in enumerate(unique_isbns)}\n",
    "\n",
    "# Function to recommend books for a given user\n",
    "def recommend_books(user_id):\n",
    "    # Placeholder logic, replace these with your actual data processing and recommendation logic\n",
    "    books_read_by_user = []  # Replace this with the actual list of books read by the user\n",
    "    book_not_read = []  # Replace this with the actual list of books not read by the user\n",
    "\n",
    "    # Avoid SettingWithCopyWarning by creating a copy\n",
    "    final_ratings_df = final_ratings_df.copy()\n",
    "    final_ratings_df['user'] = final_ratings_df['User-ID'].map(encoded_user)\n",
    "    final_ratings_df['book_title'] = final_ratings_df['ISBN'].map(isbn_to_isbn_encoded)\n",
    "\n",
    "    # Additional processing...\n",
    "\n",
    "    book_not_read = [[isbn_to_isbn_encoded.get(x)] for x in book_not_read]\n",
    "    user_encoder = user_to_user_encoded.get(user_id)\n",
    "    user_book_array = np.hstack(\n",
    "        ([[user_encoder]] * len(book_not_read), book_not_read)\n",
    "    )\n",
    "    ratings_model = model.predict(user_book_array).flatten()\n",
    "\n",
    "    top_ratings_indices = ratings_model.argsort()[-10:][::-1]\n",
    "\n",
    "    recommended_book_ids = [\n",
    "        isbn_encoded_to_isbn.get(book_not_read[x][0]) for x in top_ratings_indices\n",
    "    ]\n",
    "\n",
    "    return recommended_book_ids\n",
    "\n",
    "\n",
    "def main():\n",
    "    st.title(\"Book Recommendation System\")\n",
    "\n",
    "    # Get user input\n",
    "    user_id = st.number_input(\"Enter User ID\", min_value=1, max_value=10000, step=1)\n",
    "\n",
    "    # Display recommendations when the user clicks the button\n",
    "    if st.button(\"Get Recommendations\"):\n",
    "        recommendations = recommend_books(user_id)\n",
    "\n",
    "        # Display recommended books\n",
    "        st.subheader(\"Recommended Books:\")\n",
    "        for book_id in recommendations:\n",
    "            st.write(f\"- Book ID: {book_id}\")\n",
    "\n",
    "if __name__ == \"__main__\":\n",
    "    main()"
   ]
  },
  {
   "cell_type": "code",
   "execution_count": 17,
   "id": "b999ad37-6079-4941-9276-32d775631f66",
   "metadata": {},
   "outputs": [
    {
     "name": "stdout",
     "output_type": "stream",
     "text": [
      "Requirement already satisfied: streamlit in /Users/aditi/miniconda3/lib/python3.11/site-packages (1.26.0)\n",
      "Requirement already satisfied: altair<6,>=4.0 in /Users/aditi/miniconda3/lib/python3.11/site-packages (from streamlit) (5.0.1)\n",
      "Requirement already satisfied: blinker<2,>=1.0.0 in /Users/aditi/miniconda3/lib/python3.11/site-packages (from streamlit) (1.6.2)\n",
      "Requirement already satisfied: cachetools<6,>=4.0 in /Users/aditi/miniconda3/lib/python3.11/site-packages (from streamlit) (5.3.2)\n",
      "Requirement already satisfied: click<9,>=7.0 in /Users/aditi/miniconda3/lib/python3.11/site-packages (from streamlit) (8.1.7)\n",
      "Requirement already satisfied: importlib-metadata<7,>=1.4 in /Users/aditi/miniconda3/lib/python3.11/site-packages (from streamlit) (6.0.0)\n",
      "Requirement already satisfied: numpy<2,>=1.19.3 in /Users/aditi/miniconda3/lib/python3.11/site-packages (from streamlit) (1.26.2)\n",
      "Requirement already satisfied: packaging<24,>=16.8 in /Users/aditi/miniconda3/lib/python3.11/site-packages (from streamlit) (23.1)\n",
      "Requirement already satisfied: pandas<3,>=1.3.0 in /Users/aditi/miniconda3/lib/python3.11/site-packages (from streamlit) (2.1.4)\n",
      "Requirement already satisfied: pillow<10,>=7.1.0 in /Users/aditi/miniconda3/lib/python3.11/site-packages (from streamlit) (9.4.0)\n",
      "Requirement already satisfied: protobuf<5,>=3.20 in /Users/aditi/miniconda3/lib/python3.11/site-packages (from streamlit) (3.20.3)\n",
      "Requirement already satisfied: pyarrow>=6.0 in /Users/aditi/miniconda3/lib/python3.11/site-packages (from streamlit) (11.0.0)\n",
      "Requirement already satisfied: pympler<2,>=0.9 in /Users/aditi/miniconda3/lib/python3.11/site-packages (from streamlit) (0.9)\n",
      "Requirement already satisfied: python-dateutil<3,>=2.7.3 in /Users/aditi/miniconda3/lib/python3.11/site-packages (from streamlit) (2.8.2)\n",
      "Requirement already satisfied: requests<3,>=2.18 in /Users/aditi/miniconda3/lib/python3.11/site-packages (from streamlit) (2.31.0)\n",
      "Requirement already satisfied: rich<14,>=10.14.0 in /Users/aditi/miniconda3/lib/python3.11/site-packages (from streamlit) (13.3.5)\n",
      "Requirement already satisfied: tenacity<9,>=8.1.0 in /Users/aditi/miniconda3/lib/python3.11/site-packages (from streamlit) (8.2.2)\n",
      "Requirement already satisfied: toml<2,>=0.10.1 in /Users/aditi/miniconda3/lib/python3.11/site-packages (from streamlit) (0.10.2)\n",
      "Requirement already satisfied: typing-extensions<5,>=4.1.0 in /Users/aditi/.local/lib/python3.11/site-packages (from streamlit) (4.8.0)\n",
      "Requirement already satisfied: tzlocal<5,>=1.1 in /Users/aditi/miniconda3/lib/python3.11/site-packages (from streamlit) (2.1)\n",
      "Requirement already satisfied: validators<1,>=0.2 in /Users/aditi/miniconda3/lib/python3.11/site-packages (from streamlit) (0.18.2)\n",
      "Requirement already satisfied: gitpython!=3.1.19,<4,>=3.0.7 in /Users/aditi/miniconda3/lib/python3.11/site-packages (from streamlit) (3.1.37)\n",
      "Collecting pydeck<1,>=0.8 (from streamlit)\n",
      "  Downloading pydeck-0.8.0-py2.py3-none-any.whl (4.7 MB)\n",
      "\u001b[2K     \u001b[90m━━━━━━━━━━━━━━━━━━━━━━━━━━━━━━━━━━━━━━━━\u001b[0m \u001b[32m4.7/4.7 MB\u001b[0m \u001b[31m23.2 MB/s\u001b[0m eta \u001b[36m0:00:00\u001b[0m00:01\u001b[0m00:01\u001b[0m\n",
      "\u001b[?25hRequirement already satisfied: tornado<7,>=6.0.3 in /Users/aditi/miniconda3/lib/python3.11/site-packages (from streamlit) (6.3.3)\n",
      "Requirement already satisfied: jinja2 in /Users/aditi/miniconda3/lib/python3.11/site-packages (from altair<6,>=4.0->streamlit) (3.1.2)\n",
      "Requirement already satisfied: jsonschema>=3.0 in /Users/aditi/miniconda3/lib/python3.11/site-packages (from altair<6,>=4.0->streamlit) (4.19.2)\n",
      "Requirement already satisfied: toolz in /Users/aditi/miniconda3/lib/python3.11/site-packages (from altair<6,>=4.0->streamlit) (0.12.0)\n",
      "Requirement already satisfied: gitdb<5,>=4.0.1 in /Users/aditi/miniconda3/lib/python3.11/site-packages (from gitpython!=3.1.19,<4,>=3.0.7->streamlit) (4.0.7)\n",
      "Requirement already satisfied: zipp>=0.5 in /Users/aditi/miniconda3/lib/python3.11/site-packages (from importlib-metadata<7,>=1.4->streamlit) (3.11.0)\n",
      "Requirement already satisfied: pytz>=2020.1 in /Users/aditi/miniconda3/lib/python3.11/site-packages (from pandas<3,>=1.3.0->streamlit) (2023.3.post1)\n",
      "Requirement already satisfied: tzdata>=2022.1 in /Users/aditi/miniconda3/lib/python3.11/site-packages (from pandas<3,>=1.3.0->streamlit) (2023.3)\n",
      "Requirement already satisfied: six>=1.5 in /Users/aditi/miniconda3/lib/python3.11/site-packages (from python-dateutil<3,>=2.7.3->streamlit) (1.16.0)\n",
      "Requirement already satisfied: charset-normalizer<4,>=2 in /Users/aditi/miniconda3/lib/python3.11/site-packages (from requests<3,>=2.18->streamlit) (2.0.4)\n",
      "Requirement already satisfied: idna<4,>=2.5 in /Users/aditi/miniconda3/lib/python3.11/site-packages (from requests<3,>=2.18->streamlit) (3.4)\n",
      "Requirement already satisfied: urllib3<3,>=1.21.1 in /Users/aditi/miniconda3/lib/python3.11/site-packages (from requests<3,>=2.18->streamlit) (1.26.18)\n",
      "Requirement already satisfied: certifi>=2017.4.17 in /Users/aditi/miniconda3/lib/python3.11/site-packages (from requests<3,>=2.18->streamlit) (2023.11.17)\n",
      "Requirement already satisfied: markdown-it-py<3.0.0,>=2.2.0 in /Users/aditi/miniconda3/lib/python3.11/site-packages (from rich<14,>=10.14.0->streamlit) (2.2.0)\n",
      "Requirement already satisfied: pygments<3.0.0,>=2.13.0 in /Users/aditi/miniconda3/lib/python3.11/site-packages (from rich<14,>=10.14.0->streamlit) (2.15.1)\n",
      "Requirement already satisfied: decorator>=3.4.0 in /Users/aditi/miniconda3/lib/python3.11/site-packages (from validators<1,>=0.2->streamlit) (5.1.1)\n",
      "Requirement already satisfied: smmap<5,>=3.0.1 in /Users/aditi/miniconda3/lib/python3.11/site-packages (from gitdb<5,>=4.0.1->gitpython!=3.1.19,<4,>=3.0.7->streamlit) (4.0.0)\n",
      "Requirement already satisfied: MarkupSafe>=2.0 in /Users/aditi/miniconda3/lib/python3.11/site-packages (from jinja2->altair<6,>=4.0->streamlit) (2.1.1)\n",
      "Requirement already satisfied: attrs>=22.2.0 in /Users/aditi/miniconda3/lib/python3.11/site-packages (from jsonschema>=3.0->altair<6,>=4.0->streamlit) (23.1.0)\n",
      "Requirement already satisfied: jsonschema-specifications>=2023.03.6 in /Users/aditi/miniconda3/lib/python3.11/site-packages (from jsonschema>=3.0->altair<6,>=4.0->streamlit) (2023.7.1)\n",
      "Requirement already satisfied: referencing>=0.28.4 in /Users/aditi/miniconda3/lib/python3.11/site-packages (from jsonschema>=3.0->altair<6,>=4.0->streamlit) (0.30.2)\n",
      "Requirement already satisfied: rpds-py>=0.7.1 in /Users/aditi/miniconda3/lib/python3.11/site-packages (from jsonschema>=3.0->altair<6,>=4.0->streamlit) (0.10.6)\n",
      "Requirement already satisfied: mdurl~=0.1 in /Users/aditi/miniconda3/lib/python3.11/site-packages (from markdown-it-py<3.0.0,>=2.2.0->rich<14,>=10.14.0->streamlit) (0.1.0)\n",
      "Installing collected packages: pydeck\n",
      "  Attempting uninstall: pydeck\n",
      "    Found existing installation: pydeck 0.8.0b4\n",
      "    Uninstalling pydeck-0.8.0b4:\n",
      "      Successfully uninstalled pydeck-0.8.0b4\n",
      "Successfully installed pydeck-0.8.0\n"
     ]
    }
   ],
   "source": [
    "!pip install streamlit\n"
   ]
  },
  {
   "cell_type": "code",
   "execution_count": 19,
   "id": "bb648da8-b0c9-4a62-babe-42f42270f53f",
   "metadata": {},
   "outputs": [
    {
     "name": "stdout",
     "output_type": "stream",
     "text": [
      "The streamlit module is not an IPython extension.\n"
     ]
    }
   ],
   "source": [
    "%load_ext streamlit"
   ]
  },
  {
   "cell_type": "code",
   "execution_count": 20,
   "id": "1e27b295-9aa4-490a-8f03-cc91d7871150",
   "metadata": {},
   "outputs": [
    {
     "name": "stderr",
     "output_type": "stream",
     "text": [
      "UsageError: Line magic function `%streamlit` not found.\n"
     ]
    }
   ],
   "source": [
    "!streamlit run"
   ]
  },
  {
   "cell_type": "code",
   "execution_count": null,
   "id": "70b5ab57-d5ea-41f1-ac89-9273482eb43d",
   "metadata": {},
   "outputs": [],
   "source": []
  }
 ],
 "metadata": {
  "kernelspec": {
   "display_name": "Python 3 (ipykernel)",
   "language": "python",
   "name": "python3"
  },
  "language_info": {
   "codemirror_mode": {
    "name": "ipython",
    "version": 3
   },
   "file_extension": ".py",
   "mimetype": "text/x-python",
   "name": "python",
   "nbconvert_exporter": "python",
   "pygments_lexer": "ipython3",
   "version": "3.11.5"
  }
 },
 "nbformat": 4,
 "nbformat_minor": 5
}
